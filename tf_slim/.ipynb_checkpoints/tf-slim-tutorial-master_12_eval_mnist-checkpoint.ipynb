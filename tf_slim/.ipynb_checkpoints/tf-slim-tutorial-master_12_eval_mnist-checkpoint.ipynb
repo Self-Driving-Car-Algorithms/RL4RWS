{
 "cells": [
  {
   "cell_type": "code",
   "execution_count": 1,
   "metadata": {},
   "outputs": [
    {
     "name": "stdout",
     "output_type": "stream",
     "text": [
      "['Placeholder', 'fc/fc_1/weights/Initializer/random_uniform/shape', 'fc/fc_1/weights/Initializer/random_uniform/min', 'fc/fc_1/weights/Initializer/random_uniform/max', 'fc/fc_1/weights/Initializer/random_uniform/RandomUniform', 'fc/fc_1/weights/Initializer/random_uniform/sub', 'fc/fc_1/weights/Initializer/random_uniform/mul', 'fc/fc_1/weights/Initializer/random_uniform', 'fc/fc_1/weights', 'fc/fc_1/weights/Assign', 'fc/fc_1/weights/read', 'fc/fc_1/biases/Initializer/zeros', 'fc/fc_1/biases', 'fc/fc_1/biases/Assign', 'fc/fc_1/biases/read', 'fc/fc_1/MatMul', 'fc/fc_1/BiasAdd', 'fc/fc_1/Relu', 'fc/fc_2/weights/Initializer/random_uniform/shape', 'fc/fc_2/weights/Initializer/random_uniform/min', 'fc/fc_2/weights/Initializer/random_uniform/max', 'fc/fc_2/weights/Initializer/random_uniform/RandomUniform', 'fc/fc_2/weights/Initializer/random_uniform/sub', 'fc/fc_2/weights/Initializer/random_uniform/mul', 'fc/fc_2/weights/Initializer/random_uniform', 'fc/fc_2/weights', 'fc/fc_2/weights/Assign', 'fc/fc_2/weights/read', 'fc/fc_2/biases/Initializer/zeros', 'fc/fc_2/biases', 'fc/fc_2/biases/Assign', 'fc/fc_2/biases/read', 'fc/fc_2/MatMul', 'fc/fc_2/BiasAdd', 'fc/fc_2/Relu', 'fc/fc_3/weights/Initializer/random_uniform/shape', 'fc/fc_3/weights/Initializer/random_uniform/min', 'fc/fc_3/weights/Initializer/random_uniform/max', 'fc/fc_3/weights/Initializer/random_uniform/RandomUniform', 'fc/fc_3/weights/Initializer/random_uniform/sub', 'fc/fc_3/weights/Initializer/random_uniform/mul', 'fc/fc_3/weights/Initializer/random_uniform', 'fc/fc_3/weights', 'fc/fc_3/weights/Assign', 'fc/fc_3/weights/read', 'fc/fc_3/biases/Initializer/zeros', 'fc/fc_3/biases', 'fc/fc_3/biases/Assign', 'fc/fc_3/biases/read', 'fc/fc_3/MatMul', 'fc/fc_3/BiasAdd', 'fc/fc_3/Relu']\n",
      "['Placeholder', 'fc/fc_1/weights/Initializer/random_uniform/shape', 'fc/fc_1/weights/Initializer/random_uniform/min', 'fc/fc_1/weights/Initializer/random_uniform/max', 'fc/fc_1/weights/Initializer/random_uniform/RandomUniform', 'fc/fc_1/weights/Initializer/random_uniform/sub', 'fc/fc_1/weights/Initializer/random_uniform/mul', 'fc/fc_1/weights/Initializer/random_uniform', 'fc/fc_1/weights', 'fc/fc_1/weights/Assign', 'fc/fc_1/weights/read', 'fc/fc_1/biases/Initializer/zeros', 'fc/fc_1/biases', 'fc/fc_1/biases/Assign', 'fc/fc_1/biases/read', 'fc/fc_1/MatMul', 'fc/fc_1/BiasAdd', 'fc/fc_1/Relu', 'fc/fc_2/weights/Initializer/random_uniform/shape', 'fc/fc_2/weights/Initializer/random_uniform/min', 'fc/fc_2/weights/Initializer/random_uniform/max', 'fc/fc_2/weights/Initializer/random_uniform/RandomUniform', 'fc/fc_2/weights/Initializer/random_uniform/sub', 'fc/fc_2/weights/Initializer/random_uniform/mul', 'fc/fc_2/weights/Initializer/random_uniform', 'fc/fc_2/weights', 'fc/fc_2/weights/Assign', 'fc/fc_2/weights/read', 'fc/fc_2/biases/Initializer/zeros', 'fc/fc_2/biases', 'fc/fc_2/biases/Assign', 'fc/fc_2/biases/read', 'fc/fc_2/MatMul', 'fc/fc_2/BiasAdd', 'fc/fc_2/Relu', 'fc/fc_3/weights/Initializer/random_uniform/shape', 'fc/fc_3/weights/Initializer/random_uniform/min', 'fc/fc_3/weights/Initializer/random_uniform/max', 'fc/fc_3/weights/Initializer/random_uniform/RandomUniform', 'fc/fc_3/weights/Initializer/random_uniform/sub', 'fc/fc_3/weights/Initializer/random_uniform/mul', 'fc/fc_3/weights/Initializer/random_uniform', 'fc/fc_3/weights', 'fc/fc_3/weights/Assign', 'fc/fc_3/weights/read', 'fc/fc_3/biases/Initializer/zeros', 'fc/fc_3/biases', 'fc/fc_3/biases/Assign', 'fc/fc_3/biases/read', 'fc/fc_3/MatMul', 'fc/fc_3/BiasAdd', 'fc/fc_3/Relu']\n"
     ]
    }
   ],
   "source": [
    "# -*- coding: utf-8 -*-\n",
    "__author__ = 'socurites@gmail.com'\n",
    "\n",
    "\"\"\"\n",
    "모델 평가하기\n",
    "MNIST examples\n",
    "\"\"\"\n",
    "\n",
    "import tensorflow as tf\n",
    "import tensorflow.contrib.slim as slim\n",
    "import c01_defining_models.s04_examples.mnist_deep_step_by_step_slim as mnist_model\n",
    "from utils.dataset_utils import load_batch\n",
    "from datasets import tf_record_dataset\n",
    "\n",
    "tf.logging.set_verbosity(tf.logging.INFO)\n",
    "\n",
    "'''\n",
    "# 평가 데이터 로드\n",
    "'''\n",
    "mnist_tfrecord_dataset = tf_record_dataset.TFRecordDataset(\n",
    "    tfrecord_dir='/home/itrocks/Git/Tensorflow/tf-slim-tutorial/raw_data/mnist/tfrecord',\n",
    "    dataset_name='mnist',\n",
    "    num_classes=10)\n",
    "# Selects the 'train' dataset.\n",
    "dataset = mnist_tfrecord_dataset.get_split(split_name='validation')\n",
    "images, labels, _ = load_batch(dataset)\n",
    "\n",
    "'''\n",
    "# 모델 정의\n",
    "'''\n",
    "predictions = mnist_model.mnist_convnet(inputs=images, is_training=False)\n",
    "\n",
    "'''\n",
    "# 메트릭 정의\n",
    "'''\n",
    "predictions = tf.argmax(predictions, 1)\n",
    "labels = tf.argmax(labels, 1)\n",
    "\n",
    "# Define the metrics:\n",
    "names_to_values, names_to_updates = slim.metrics.aggregate_metric_map({\n",
    "    'eval/Accuracy': slim.metrics.streaming_accuracy(predictions, labels),\n",
    "    # 'eval/Recall@5': slim.metrics.streaming_recall_at_k(predictions, labels, 5),\n",
    "})\n",
    "\n",
    "'''\n",
    "# 평가하기\n",
    "'''\n",
    "# logging 경로 설정\n",
    "log_dir = '/tmp/tfslim_model/'\n",
    "eval_dir = '/tmp/tfslim_model-eval/'\n",
    "if not tf.gfile.Exists(eval_dir):\n",
    "    tf.gfile.MakeDirs(eval_dir)\n",
    "\n",
    "if not tf.gfile.Exists(log_dir):\n",
    "    raise Exception(\"trained check point does not exist at %s \" % log_dir)\n",
    "else:\n",
    "    checkpoint_path = tf.train.latest_checkpoint(log_dir)\n",
    "\n",
    "\n",
    "metric_values = slim.evaluation.evaluate_once(\n",
    "    master='',\n",
    "    checkpoint_path=checkpoint_path,\n",
    "    logdir=eval_dir,\n",
    "    num_evals=100,\n",
    "    eval_op=names_to_updates.values(),\n",
    "    final_op=names_to_values.values())\n",
    "\n",
    "names_to_values = dict(zip(names_to_values.keys(), metric_values))\n",
    "for name in names_to_values:\n",
    "    print('%s: %f' % (name, names_to_values[name]))\n"
   ]
  }
 ],
 "metadata": {
  "kernelspec": {
   "display_name": "Python 3",
   "language": "python",
   "name": "python3"
  },
  "language_info": {
   "codemirror_mode": {
    "name": "ipython",
    "version": 3
   },
   "file_extension": ".py",
   "mimetype": "text/x-python",
   "name": "python",
   "nbconvert_exporter": "python",
   "pygments_lexer": "ipython3",
   "version": "3.6.6"
  }
 },
 "nbformat": 4,
 "nbformat_minor": 2
}
