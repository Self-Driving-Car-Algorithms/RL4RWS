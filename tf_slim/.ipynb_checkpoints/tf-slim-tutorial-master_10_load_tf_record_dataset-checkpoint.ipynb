{
 "cells": [
  {
   "cell_type": "code",
   "execution_count": 1,
   "metadata": {},
   "outputs": [
    {
     "name": "stdout",
     "output_type": "stream",
     "text": [
      "['Placeholder', 'fc/fc_1/weights/Initializer/random_uniform/shape', 'fc/fc_1/weights/Initializer/random_uniform/min', 'fc/fc_1/weights/Initializer/random_uniform/max', 'fc/fc_1/weights/Initializer/random_uniform/RandomUniform', 'fc/fc_1/weights/Initializer/random_uniform/sub', 'fc/fc_1/weights/Initializer/random_uniform/mul', 'fc/fc_1/weights/Initializer/random_uniform', 'fc/fc_1/weights', 'fc/fc_1/weights/Assign', 'fc/fc_1/weights/read', 'fc/fc_1/biases/Initializer/zeros', 'fc/fc_1/biases', 'fc/fc_1/biases/Assign', 'fc/fc_1/biases/read', 'fc/fc_1/MatMul', 'fc/fc_1/BiasAdd', 'fc/fc_1/Relu', 'fc/fc_2/weights/Initializer/random_uniform/shape', 'fc/fc_2/weights/Initializer/random_uniform/min', 'fc/fc_2/weights/Initializer/random_uniform/max', 'fc/fc_2/weights/Initializer/random_uniform/RandomUniform', 'fc/fc_2/weights/Initializer/random_uniform/sub', 'fc/fc_2/weights/Initializer/random_uniform/mul', 'fc/fc_2/weights/Initializer/random_uniform', 'fc/fc_2/weights', 'fc/fc_2/weights/Assign', 'fc/fc_2/weights/read', 'fc/fc_2/biases/Initializer/zeros', 'fc/fc_2/biases', 'fc/fc_2/biases/Assign', 'fc/fc_2/biases/read', 'fc/fc_2/MatMul', 'fc/fc_2/BiasAdd', 'fc/fc_2/Relu', 'fc/fc_3/weights/Initializer/random_uniform/shape', 'fc/fc_3/weights/Initializer/random_uniform/min', 'fc/fc_3/weights/Initializer/random_uniform/max', 'fc/fc_3/weights/Initializer/random_uniform/RandomUniform', 'fc/fc_3/weights/Initializer/random_uniform/sub', 'fc/fc_3/weights/Initializer/random_uniform/mul', 'fc/fc_3/weights/Initializer/random_uniform', 'fc/fc_3/weights', 'fc/fc_3/weights/Assign', 'fc/fc_3/weights/read', 'fc/fc_3/biases/Initializer/zeros', 'fc/fc_3/biases', 'fc/fc_3/biases/Assign', 'fc/fc_3/biases/read', 'fc/fc_3/MatMul', 'fc/fc_3/BiasAdd', 'fc/fc_3/Relu']\n",
      "['Placeholder', 'fc/fc_1/weights/Initializer/random_uniform/shape', 'fc/fc_1/weights/Initializer/random_uniform/min', 'fc/fc_1/weights/Initializer/random_uniform/max', 'fc/fc_1/weights/Initializer/random_uniform/RandomUniform', 'fc/fc_1/weights/Initializer/random_uniform/sub', 'fc/fc_1/weights/Initializer/random_uniform/mul', 'fc/fc_1/weights/Initializer/random_uniform', 'fc/fc_1/weights', 'fc/fc_1/weights/Assign', 'fc/fc_1/weights/read', 'fc/fc_1/biases/Initializer/zeros', 'fc/fc_1/biases', 'fc/fc_1/biases/Assign', 'fc/fc_1/biases/read', 'fc/fc_1/MatMul', 'fc/fc_1/BiasAdd', 'fc/fc_1/Relu', 'fc/fc_2/weights/Initializer/random_uniform/shape', 'fc/fc_2/weights/Initializer/random_uniform/min', 'fc/fc_2/weights/Initializer/random_uniform/max', 'fc/fc_2/weights/Initializer/random_uniform/RandomUniform', 'fc/fc_2/weights/Initializer/random_uniform/sub', 'fc/fc_2/weights/Initializer/random_uniform/mul', 'fc/fc_2/weights/Initializer/random_uniform', 'fc/fc_2/weights', 'fc/fc_2/weights/Assign', 'fc/fc_2/weights/read', 'fc/fc_2/biases/Initializer/zeros', 'fc/fc_2/biases', 'fc/fc_2/biases/Assign', 'fc/fc_2/biases/read', 'fc/fc_2/MatMul', 'fc/fc_2/BiasAdd', 'fc/fc_2/Relu', 'fc/fc_3/weights/Initializer/random_uniform/shape', 'fc/fc_3/weights/Initializer/random_uniform/min', 'fc/fc_3/weights/Initializer/random_uniform/max', 'fc/fc_3/weights/Initializer/random_uniform/RandomUniform', 'fc/fc_3/weights/Initializer/random_uniform/sub', 'fc/fc_3/weights/Initializer/random_uniform/mul', 'fc/fc_3/weights/Initializer/random_uniform', 'fc/fc_3/weights', 'fc/fc_3/weights/Assign', 'fc/fc_3/weights/read', 'fc/fc_3/biases/Initializer/zeros', 'fc/fc_3/biases', 'fc/fc_3/biases/Assign', 'fc/fc_3/biases/read', 'fc/fc_3/MatMul', 'fc/fc_3/BiasAdd', 'fc/fc_3/Relu']\n"
     ]
    }
   ],
   "source": [
    "# -*- coding: utf-8 -*-\n",
    "__author__ = 'socurites@gmail.com'\n",
    "\n",
    "\"\"\"\n",
    "TFRecord Dataset 로드하기\n",
    "# 1. TFRecord 포맷 데이터을 읽어서 변환할 수 있도록 slim.dataset.Dataset 클래스를 정의한다.\n",
    "# 2. 데이터를 피드하기 위한 slim.dataset_data_provider.DatasetDataProvider를 생성한다.\n",
    "# 3. 네트워크 모델의 입력에 맞게 전처리 작업 및 편의를 위한 one-hot 인코딩 작업을 한 후, tf.train.batch를 생성한다.\n",
    "\"\"\"\n",
    "\n",
    "import tensorflow as tf\n",
    "import tensorflow.contrib.slim as slim\n",
    "from datasets import tf_record_dataset\n",
    "from utils.dataset_utils import load_batch\n",
    "\n",
    "\"\"\"\n",
    "# slim.dataset.Dataset 클래스를 정의\n",
    "\"\"\"\n",
    "TF_RECORD_DIR = '/home/itrocks/Git/Tensorflow/tf-slim-tutorial/raw_data/mnist/tfrecord'\n",
    "mnist_tfrecord_dataset = tf_record_dataset.TFRecordDataset(tfrecord_dir=TF_RECORD_DIR,\n",
    "                                                           dataset_name='mnist',\n",
    "                                                           num_classes=10)\n",
    "# train 데이터셋 생성\n",
    "dataset = mnist_tfrecord_dataset.get_split(split_name='train')\n",
    "\n",
    "\"\"\"\n",
    "# slim.dataset_data_provider.DatasetDataProvider를 생성\n",
    "\"\"\"\n",
    "provider = slim.dataset_data_provider.DatasetDataProvider(dataset)\n",
    "[image, label] = provider.get(['image', 'label'])\n",
    "\n",
    "# 테스트\n",
    "import matplotlib.pyplot as plt\n",
    "with tf.Session() as sess:\n",
    "    with slim.queues.QueueRunners(sess):\n",
    "        plt.figure()\n",
    "        for i in range(4):\n",
    "            np_image, np_label = sess.run([image, label])\n",
    "            height, width, _ = np_image.shape\n",
    "            class_name = name = dataset.labels_to_names[np_label]\n",
    "\n",
    "            plt.subplot(2, 2, i+1)\n",
    "            plt.imshow(np_image)\n",
    "            plt.title('%s, %d x %d' % (name, height, width))\n",
    "            plt.axis('off')\n",
    "        plt.show()\n",
    "\n",
    "\n",
    "'''\n",
    "tf.train.batch를 생성\n",
    "'''\n",
    "images, labels, _ = load_batch(dataset)"
   ]
  }
 ],
 "metadata": {
  "kernelspec": {
   "display_name": "Python 3",
   "language": "python",
   "name": "python3"
  },
  "language_info": {
   "codemirror_mode": {
    "name": "ipython",
    "version": 3
   },
   "file_extension": ".py",
   "mimetype": "text/x-python",
   "name": "python",
   "nbconvert_exporter": "python",
   "pygments_lexer": "ipython3",
   "version": "3.6.6"
  }
 },
 "nbformat": 4,
 "nbformat_minor": 2
}
