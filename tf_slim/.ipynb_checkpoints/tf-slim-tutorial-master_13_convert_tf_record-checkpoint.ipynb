{
 "cells": [
  {
   "cell_type": "markdown",
   "metadata": {},
   "source": [
    "C:\\project\\dog-breed-classification.tf-master\\datasets에 있는 convert_tf_record.py를 datasets에 카피\n",
    "\n",
    "(base) C:\\project\\dog-breed-classification.tf-master>python create_tf_record.py "
   ]
  },
  {
   "cell_type": "code",
   "execution_count": 1,
   "metadata": {},
   "outputs": [
    {
     "name": "stdout",
     "output_type": "stream",
     "text": [
      ">> Converting [train] image 2936/2936 shard 4\n",
      ">> Converting [validation] image 734/734 shard 4\n",
      "\n",
      "Finished converting the  dataset!\n"
     ]
    },
    {
     "ename": "SystemExit",
     "evalue": "",
     "output_type": "error",
     "traceback": [
      "An exception has occurred, use %tb to see the full traceback.\n",
      "\u001b[1;31mSystemExit\u001b[0m\n"
     ]
    },
    {
     "name": "stderr",
     "output_type": "stream",
     "text": [
      "C:\\Users\\user\\Anaconda3\\lib\\site-packages\\IPython\\core\\interactiveshell.py:2971: UserWarning: To exit: use 'exit', 'quit', or Ctrl-D.\n",
      "  warn(\"To exit: use 'exit', 'quit', or Ctrl-D.\", stacklevel=1)\n"
     ]
    }
   ],
   "source": [
    "# -*- coding: utf-8 -*-\n",
    "__author__ = 'socurites@gmail.com'\n",
    "\n",
    "\"\"\"\n",
    "이미지 데이터를 학습/평가를 위한 TFRecord 포맷으로 변환\n",
    "\n",
    "# Ref: TensorFlow-Slim image classification library\n",
    "       https://github.com/tensorflow/models/tree/master/slim\n",
    "\"\"\"\n",
    "\n",
    "import tensorflow as tf\n",
    "import tensorflow.contrib.slim as slim\n",
    "\n",
    "\"\"\"\n",
    "# 훈련 데이터셋의 구조\n",
    "raw_data/\n",
    "  |- flowers/\n",
    "       |- images/\n",
    "           |- class-1/\n",
    "           |- class-2/\n",
    "           |- class-3/\n",
    "           |- class-4/\n",
    "           |-- ...\n",
    "\n",
    "# MNITS의 경우\n",
    "raw_data/\n",
    "  |- mnist/\n",
    "       |- images/\n",
    "           |- 0/\n",
    "           |- 1/\n",
    "           |- 2/\n",
    "           |- 3/\n",
    "           |-- ...\n",
    "\"\"\"\n",
    "\n",
    "# 아래 코드는 flowers/ 데이터를 다운로드 후 TFRecord로 변환하는 코드임\n",
    "# 아래 코드를 약간 변형해서 사용\n",
    "# https://github.com/tensorflow/models/blob/master/slim/download_and_convert_data.py\n",
    "\n",
    "from datasets import convert_tf_record\n",
    "\n",
    "FLAGS = tf.app.flags.FLAGS\n",
    "\n",
    "tf.app.flags.DEFINE_string(\n",
    "    'dataset_name',\n",
    "    #'mnist',\n",
    "    #'dog',\n",
    "    'flowers',\n",
    "    'The name of the dataset prefix.')\n",
    "\n",
    "tf.app.flags.DEFINE_string(\n",
    "    'dataset_dir',\n",
    "    #'./raw_data/mnist',\n",
    "    #'./raw_data/dog',\n",
    "    #'/project/dog-breed-classification.tf-master/raw_data/mnist',\n",
    "    #'/project/dog-breed-classification.tf-master/raw_data/dog',\n",
    "    '/project/dog-breed-classification.tf-master/raw_data/flowers',\n",
    "    'A directory containing a set of subdirectories representing class names. Each subdirectory should contain PNG or JPG encoded images.')\n",
    "\n",
    "tf.app.flags.DEFINE_integer(\n",
    "    'num_shards',\n",
    "    5,\n",
    "    'A number of sharding for TFRecord files(integer).')\n",
    "\n",
    "tf.app.flags.DEFINE_float(\n",
    "    'ratio_val',\n",
    "    0.2,\n",
    "    'A ratio of validation datasets for TFRecord files(flaot, 0 ~ 1).')\n",
    "\n",
    "\n",
    "def main(_):\n",
    "    if not FLAGS.dataset_name:\n",
    "        raise ValueError('You must supply the dataset name with --dataset_name')\n",
    "    if not FLAGS.dataset_dir:\n",
    "        raise ValueError('You must supply the dataset directory with --dataset_dir')\n",
    "\n",
    "    convert_tf_record.run(FLAGS.dataset_name, FLAGS.dataset_dir, FLAGS.num_shards, FLAGS.ratio_val)\n",
    "\n",
    "\n",
    "if __name__ == '__main__':\n",
    "    tf.app.run()\n"
   ]
  }
 ],
 "metadata": {
  "kernelspec": {
   "display_name": "Python 3",
   "language": "python",
   "name": "python3"
  },
  "language_info": {
   "codemirror_mode": {
    "name": "ipython",
    "version": 3
   },
   "file_extension": ".py",
   "mimetype": "text/x-python",
   "name": "python",
   "nbconvert_exporter": "python",
   "pygments_lexer": "ipython3",
   "version": "3.6.6"
  }
 },
 "nbformat": 4,
 "nbformat_minor": 2
}
