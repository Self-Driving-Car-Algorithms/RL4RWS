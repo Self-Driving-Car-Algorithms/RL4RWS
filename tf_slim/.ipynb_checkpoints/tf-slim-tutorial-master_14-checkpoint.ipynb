{
 "cells": [
  {
   "cell_type": "code",
   "execution_count": 1,
   "metadata": {},
   "outputs": [
    {
     "name": "stdout",
     "output_type": "stream",
     "text": [
      "INFO:tensorflow:Restoring parameters from C:/tmp/train_inception_v1_flowers_FineTune_logs\\model.ckpt-1000\n"
     ]
    },
    {
     "data": {
      "text/plain": [
       "<Figure size 640x480 with 1 Axes>"
      ]
     },
     "metadata": {},
     "output_type": "display_data"
    },
    {
     "name": "stdout",
     "output_type": "stream",
     "text": [
      "Probability 99.38% => [manhole]\n",
      "Probability 0.32% => [crosswalk]\n",
      "Probability 0.23% => [green traffic light]\n",
      "Probability 0.04% => [car]\n",
      "Probability 0.03% => [bike]\n"
     ]
    }
   ],
   "source": [
    "from matplotlib import pyplot as plt\n",
    "\n",
    "import numpy as np\n",
    "import os\n",
    "import tensorflow as tf\n",
    "\n",
    "from nets import inception\n",
    "from preprocessing import inception_preprocessing\n",
    "\n",
    "#check point 위치\n",
    "checkpoints_dir = 'C:/tmp/train_inception_v1_flowers_FineTune_logs'\n",
    "\n",
    "slim = tf.contrib.slim\n",
    "\n",
    "image_size = inception.inception_v1.default_image_size    \n",
    "\n",
    "with tf.Graph().as_default():\n",
    "    \n",
    "    # input image 위치\n",
    "    image_input = tf.read_file(r\"C:\\tulip-princess-irene-1_1644278f-26fa-435b-8f98-6558431e5d9c_grande.jpg\")\n",
    "    image = tf.image.decode_jpeg(image_input, channels=3)\n",
    "    processed_image = inception_preprocessing.preprocess_image(image,\n",
    "                                                         image_size,\n",
    "                                                         image_size,\n",
    "                                                         is_training=False)\n",
    "    processed_images  = tf.expand_dims(processed_image, 0)\n",
    "    \n",
    "    with slim.arg_scope(inception.inception_v1_arg_scope()):\n",
    "        logits, _ = inception.inception_v1(processed_images, num_classes=5, is_training=False) #class의 수에 따라 class 변경\n",
    "    probabilities = tf.nn.softmax(logits)\n",
    "    \n",
    "    init_fn = slim.assign_from_checkpoint_fn(\n",
    "        os.path.join(checkpoints_dir, 'model.ckpt-1000'),\n",
    "        slim.get_model_variables('InceptionV1'))\n",
    "    \n",
    "    with tf.Session() as sess:\n",
    "        init_fn(sess)\n",
    "        np_image, probabilities = sess.run([image, probabilities])\n",
    "        probabilities = probabilities[0, 0:]\n",
    "        sorted_inds = [i[0] for i in sorted(enumerate(-probabilities), key=lambda x:x[1])]\n",
    "\n",
    "    # 사진을 보여주는건데 있어도 되고 없어도 됩니다.    \n",
    "    plt.figure()\n",
    "    plt.imshow(np_image.astype(np.uint8))\n",
    "    plt.axis('off')\n",
    "    plt.show()\n",
    "\n",
    "    names = os.listdir(\"\\\\project\\\\test\\\\dataset\")\n",
    "    for i in range(5):\n",
    "        index = sorted_inds[i]\n",
    "        prob = probabilities[index]*100\n",
    "        print('Probability %0.2f%% => [%s]' % (prob, names[index]))"
   ]
  }
 ],
 "metadata": {
  "kernelspec": {
   "display_name": "Python 3",
   "language": "python",
   "name": "python3"
  },
  "language_info": {
   "codemirror_mode": {
    "name": "ipython",
    "version": 3
   },
   "file_extension": ".py",
   "mimetype": "text/x-python",
   "name": "python",
   "nbconvert_exporter": "python",
   "pygments_lexer": "ipython3",
   "version": "3.6.6"
  }
 },
 "nbformat": 4,
 "nbformat_minor": 2
}
