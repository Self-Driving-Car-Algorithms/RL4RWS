{
 "cells": [
  {
   "cell_type": "code",
   "execution_count": 1,
   "metadata": {},
   "outputs": [
    {
     "data": {
      "text/plain": [
       "'\\nimport tensorflow.contrib.slim.nets\\nvgg = tf.contrib.slim.nets.vgg\\n\\nwith slim.arg_scope(vgg.vgg_arg_scope()):\\n  logits, end_points = vgg.vgg_16(inputs=images, num_classes=num_classes, is_training=is_training)\\n'"
      ]
     },
     "execution_count": 1,
     "metadata": {},
     "output_type": "execute_result"
    }
   ],
   "source": [
    "__author__ = 'socurites@gmail.com'\n",
    "\n",
    "\"\"\"\n",
    "VGG-16 network definition example by TF-Slim\n",
    "\"\"\"\n",
    "\n",
    "import tensorflow as tf\n",
    "import tensorflow.contrib.slim as slim\n",
    "\n",
    "\"\"\"\n",
    "VGG-16 Network\n",
    "Ref: https://www.cs.toronto.edu/~frossard/post/vgg16/\n",
    "\"\"\"\n",
    "# FIG.2 - Macro Architecture of VGG16\n",
    "\n",
    "# VGG-16 network definition by native-TF\n",
    "\n",
    "\n",
    "\"\"\"\n",
    "VGG-16 network definition by TF-Slim\n",
    "# TF-Slim model: https://github.com/tensorflow/models/tree/master/slim/nets\n",
    "# TF-Slim VGG model: https://github.com/tensorflow/models/blob/master/slim/nets/vgg.py\n",
    "\"\"\"\n",
    "\n",
    "\n",
    "def vgg16(inputs):\n",
    "    with slim.arg_scope([slim.conv2d, slim.fully_connected],\n",
    "                        activation_fn=tf.nn.relu,\n",
    "                        weights_initializer=tf.truncated_normal_initializer(0.0, 0.01),\n",
    "                        weights_regularizer=slim.l2_regularizer(0.0005)):\n",
    "        net = slim.repeat(inputs, 2, slim.conv2d, 64, [3, 3], scope='conv1')\n",
    "        net = slim.max_pool2d(net, [2, 2], scope='pool1')\n",
    "        net = slim.repeat(net, 2, slim.conv2d, 128, [3, 3], scope='conv2')\n",
    "        net = slim.max_pool2d(net, [2, 2], scope='pool2')\n",
    "        net = slim.repeat(net, 3, slim.conv2d, 256, [3, 3], scope='conv3')\n",
    "        net = slim.max_pool2d(net, [2, 2], scope='pool3')\n",
    "        net = slim.repeat(net, 3, slim.conv2d, 512, [3, 3], scope='conv4')\n",
    "        net = slim.max_pool2d(net, [2, 2], scope='pool4')\n",
    "        net = slim.repeat(net, 3, slim.conv2d, 512, [3, 3], scope='conv5')\n",
    "        net = slim.max_pool2d(net, [2, 2], scope='pool5')\n",
    "        net = slim.fully_connected(net, 4096, scope='fc6')\n",
    "        net = slim.dropout(net, 0.5, scope='dropout6')\n",
    "        net = slim.fully_connected(net, 4096, scope='fc7')\n",
    "        net = slim.dropout(net, 0.5, scope='dropout7')\n",
    "        net = slim.fully_connected(net, 1000, activation_fn=None, scope='fc8')\n",
    "    return net\n",
    "\n",
    "\n",
    "# import pre-defined network model of TF-Slim\n",
    "\"\"\"\n",
    "import tensorflow.contrib.slim.nets\n",
    "vgg = tf.contrib.slim.nets.vgg\n",
    "\n",
    "with slim.arg_scope(vgg.vgg_arg_scope()):\n",
    "  logits, end_points = vgg.vgg_16(inputs=images, num_classes=num_classes, is_training=is_training)\n",
    "\"\"\""
   ]
  }
 ],
 "metadata": {
  "kernelspec": {
   "display_name": "Python 3",
   "language": "python",
   "name": "python3"
  },
  "language_info": {
   "codemirror_mode": {
    "name": "ipython",
    "version": 3
   },
   "file_extension": ".py",
   "mimetype": "text/x-python",
   "name": "python",
   "nbconvert_exporter": "python",
   "pygments_lexer": "ipython3",
   "version": "3.6.6"
  }
 },
 "nbformat": 4,
 "nbformat_minor": 2
}
