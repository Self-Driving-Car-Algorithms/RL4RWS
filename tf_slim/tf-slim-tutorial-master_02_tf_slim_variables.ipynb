{
 "cells": [
  {
   "cell_type": "code",
   "execution_count": 1,
   "metadata": {},
   "outputs": [
    {
     "name": "stdout",
     "output_type": "stream",
     "text": [
      "['w5:0']\n",
      "['w5:0']\n",
      "['w4:0', 'w5:0', 'mv1:0']\n"
     ]
    }
   ],
   "source": [
    "# -*- coding: utf-8 -*-\n",
    "__author__ = 'socurites@gmail.com'\n",
    "\n",
    "\"\"\"\n",
    "TF-Slim에서 variable을 사용하는 방법\n",
    "\"\"\"\n",
    "\n",
    "import tensorflow as tf\n",
    "import tensorflow.contrib.slim as slim\n",
    "\n",
    "\"\"\"\n",
    "# nativeTF의 아래 코드와 TF-Slim의 아래 코드는 동일\n",
    "with tf.device(\"/cpu:0\"):\n",
    "  weight_4 = tf.Variable(tf.truncated_normal(shape=[784, 200], mean=1.5, stddev=0.35), name=\"w4\")\n",
    "\"\"\"\n",
    "\n",
    "weight_4 = slim.variable('w4',\n",
    "                         shape=[784, 200],\n",
    "                         initializer=tf.truncated_normal_initializer(mean=1.5, stddev=0.35),\n",
    "                         device='/CPU:0')\n",
    "\n",
    "init_op = tf.global_variables_initializer()\n",
    "with tf.Session() as sess:\n",
    "    sess.run(init_op)\n",
    "\n",
    "    val_w4 = sess.run(weight_4)\n",
    "\n",
    "\"\"\"\n",
    "모델 변수(model variables) vs. 일반 변수(regular variable)\n",
    "\"\"\"\n",
    "\n",
    "# 모델 변수 생성하기\n",
    "weight_5 = slim.model_variable('w5',\n",
    "                               shape=[10, 10, 3, 3],\n",
    "                               initializer=tf.truncated_normal_initializer(stddev=0.1),\n",
    "                               regularizer=slim.l2_regularizer(0.05),\n",
    "                               device='/CPU:0')\n",
    "\n",
    "model_variables = slim.get_model_variables()\n",
    "\n",
    "print([var.name for var in model_variables])\n",
    "\n",
    "# 일반 변수 생성하기\n",
    "my_var_1 = slim.variable('mv1',\n",
    "                         shape=[20, 1],\n",
    "                         initializer=tf.zeros_initializer())\n",
    "\n",
    "model_variables = slim.get_model_variables()\n",
    "all_variables = slim.get_variables()\n",
    "\n",
    "print([var.name for var in model_variables])\n",
    "print([var.name for var in all_variables])"
   ]
  }
 ],
 "metadata": {
  "kernelspec": {
   "display_name": "Python 3",
   "language": "python",
   "name": "python3"
  },
  "language_info": {
   "codemirror_mode": {
    "name": "ipython",
    "version": 3
   },
   "file_extension": ".py",
   "mimetype": "text/x-python",
   "name": "python",
   "nbconvert_exporter": "python",
   "pygments_lexer": "ipython3",
   "version": "3.6.6"
  }
 },
 "nbformat": 4,
 "nbformat_minor": 2
}
