{
 "cells": [
  {
   "cell_type": "code",
   "execution_count": 1,
   "metadata": {},
   "outputs": [],
   "source": [
    "__author__ = 'socurites@gmail.com'\n",
    "\n",
    "\"\"\"\n",
    "MNIST network definition example by TF-Slim\n",
    "\"\"\"\n",
    "\n",
    "import tensorflow as tf\n",
    "import tensorflow.contrib.slim as slim\n",
    "\n",
    "\n",
    "def mnist_convnet(inputs, is_training=True):\n",
    "    with slim.arg_scope([slim.conv2d, slim.fully_connected],\n",
    "                        activation_fn=tf.nn.relu,\n",
    "                        weights_initializer=tf.truncated_normal_initializer(stddev=0.1)):\n",
    "        with slim.arg_scope([slim.conv2d],\n",
    "                            kernel_size=5):\n",
    "            net = slim.conv2d(inputs=inputs, num_outputs=32, scope='conv1')\n",
    "            net = slim.max_pool2d(inputs=net, kernel_size=[2, 2], scope='pool1')\n",
    "            net = slim.conv2d(inputs=net, num_outputs=64, scope='conv2')\n",
    "            net = slim.max_pool2d(inputs=net, kernel_size=[2, 2], scope='pool2')\n",
    "            net = slim.flatten(inputs=net, scope='flatten')\n",
    "            net = slim.fully_connected(inputs=net, num_outputs=1024, scope='fc3')\n",
    "            net = slim.dropout(inputs=net, is_training=is_training, keep_prob=0.5, scope='dropout4')\n",
    "            net = slim.fully_connected(inputs=net, num_outputs=10, activation_fn=None, scope='fc4')\n",
    "    return net"
   ]
  }
 ],
 "metadata": {
  "kernelspec": {
   "display_name": "Python 3",
   "language": "python",
   "name": "python3"
  },
  "language_info": {
   "codemirror_mode": {
    "name": "ipython",
    "version": 3
   },
   "file_extension": ".py",
   "mimetype": "text/x-python",
   "name": "python",
   "nbconvert_exporter": "python",
   "pygments_lexer": "ipython3",
   "version": "3.6.6"
  }
 },
 "nbformat": 4,
 "nbformat_minor": 2
}
